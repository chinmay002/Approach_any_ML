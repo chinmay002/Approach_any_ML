{
 "cells": [
  {
   "cell_type": "code",
   "execution_count": 100,
   "id": "1c335b39",
   "metadata": {},
   "outputs": [],
   "source": [
    "import numpy as np\n",
    "import pandas as pd\n",
    "import seaborn as sns\n",
    "import matplotlib.pyplot as plt\n",
    "from sklearn.metrics import log_loss,accuracy_score,recall_score,precision_recall_curve,precision_recall_fscore_support"
   ]
  },
  {
   "cell_type": "code",
   "execution_count": 51,
   "id": "77a40f2b",
   "metadata": {},
   "outputs": [],
   "source": [
    "class Metrics:\n",
    "    def __init__(self):\n",
    "        pass\n",
    "\n",
    "#comment\n",
    "    def accuracy(self,y_true,y_pred):\n",
    "        '''\n",
    "        Function to calculate accuracy\n",
    "        :param y_true: list of true values\n",
    "        :param y_pred: list of predicted values\n",
    "        :return: accuracy score\n",
    "        '''\n",
    "        correct_counter = 0.\n",
    "        for yt,yp in zip(y_true,y_pred):\n",
    "            if yt == yp:\n",
    "                correct_counter += 1\n",
    "        return  correct_counter/len(y_true)\n",
    "\n",
    "    def true_positive(self,y_true,y_pred):\n",
    "        '''\n",
    "        Function to calculate accuracy\n",
    "        :param y_true: list of true values\n",
    "        :param y_pred: list of predicted values\n",
    "        :return: accuracy score\n",
    "        '''\n",
    "        tp_counter = 0\n",
    "        for yt,yp in zip(y_true,y_pred):\n",
    "            if yt == 1 and yp == 1:\n",
    "                tp_counter += 1\n",
    "        return  tp_counter\n",
    "\n",
    "    def true_negative(self,y_true,y_pred):\n",
    "        '''Function to calculate accuracy\n",
    "        :param y_true: list of true values\n",
    "        :param y_pred: list of predicted values\n",
    "        :return: accuracy score\n",
    "\n",
    "        '''\n",
    "        tn_counter = 0\n",
    "        for yt,yp in zip(y_true,y_pred):\n",
    "            if yt == 0 and yp == 0:\n",
    "                tn_counter += 1\n",
    "        return  tn_counter\n",
    "\n",
    "    def false_positive(self,y_true,y_pred):\n",
    "        '''\n",
    "        Function to calculate accuracy\n",
    "        :param y_true: list of true values\n",
    "        :param y_pred: list of predicted values\n",
    "        :return: accuracy score\n",
    "        '''\n",
    "        fp_counter = 0\n",
    "        for yt,yp in zip(y_true,y_pred):\n",
    "            if yt == 0 and yp == 1:\n",
    "                fp_counter += 1\n",
    "        return  fp_counter\n",
    "\n",
    "    def false_negative(self,y_true,y_pred):\n",
    "        '''\n",
    "        Function to calculate accuracy\n",
    "        :param y_true: list of true values\n",
    "        :param y_pred: list of predicted values\n",
    "        :return: accuracy score\n",
    "        '''\n",
    "        fn_counter = 0\n",
    "        for yt,yp in zip(y_true,y_pred):\n",
    "            if yt == 1 and yp == 0:\n",
    "                fn_counter += 1\n",
    "        return  fn_counter\n",
    "\n",
    "    def accuracy_v2(self,y_true, y_pred):\n",
    "\n",
    "        \"\"\"\n",
    "        Function to calculate accuracy using tp/tn/fp/fn\n",
    "        :param y_true: list of true values\n",
    "        :param y_pred: list of predicted values\n",
    "        :return: accuracy score\n",
    "        \"\"\"\n",
    "        tp = self.true_positive(y_true, y_pred)\n",
    "        fp = self.false_positive(y_true, y_pred)\n",
    "        fn = self.false_negative(y_true, y_pred)\n",
    "        tn = self.true_negative(y_true, y_pred)\n",
    "        accuracy_score = (tp + tn) / (tp + tn + fp + fn)\n",
    "        return accuracy_score\n",
    "\n",
    "    def precision(self,y_true,y_pred):\n",
    "        '''\n",
    "        out of all predicted values how many are actual true\n",
    "        tp/tp+fp\n",
    "        '''\n",
    "        tp = self.true_positive(y_true,y_pred)\n",
    "        fp = self.false_positive(y_true,y_pred)\n",
    "\n",
    "        return tp/(tp+fp)\n",
    "\n",
    "    def recall(self,y_true,y_pred):\n",
    "        '''\n",
    "        out of all true value, how many were predicted correct\n",
    "        tp/tp+fn\n",
    "        '''\n",
    "        tp = self.true_positive(y_true,y_pred)\n",
    "        fn = self.false_negative(y_true,y_pred)\n",
    "\n",
    "        return tp/(tp+fn)\n",
    "    \n",
    "    def f1(self,y_true, y_pred):\n",
    "        \"\"\"\n",
    "        Function to calculate f1 score\n",
    "        :param y_true: list of true values\n",
    "        :param y_pred: list of predicted values\n",
    "        :return: f1 score\n",
    "        \"\"\"\n",
    "        p = self.precision(y_true, y_pred)\n",
    "        r = self.recall(y_true, y_pred)\n",
    "        score = 2 * p * r / (p + r)\n",
    "        return score\n",
    "    \n",
    "    def tpr(self,y_true,y_pred):\n",
    "        '''\n",
    "        also called as recall or sensitivity\n",
    "        '''\n",
    "        return self.recall(y_true,y_pred)\n",
    "\n",
    "    def fpr(self,y_true,y_pred):\n",
    "        '''\n",
    "        '''\n",
    "        fp = self.false_positive(y_true,y_pred)\n",
    "        tn = self.true_negative(y_true,y_pred)\n",
    "        \n",
    "        return  fp/(fp+tn)\n",
    "\n",
    "\n"
   ]
  },
  {
   "cell_type": "code",
   "execution_count": 52,
   "id": "9ad2dd9d",
   "metadata": {},
   "outputs": [],
   "source": [
    "metric = Metrics()"
   ]
  },
  {
   "cell_type": "code",
   "execution_count": 16,
   "id": "bc89b62a",
   "metadata": {},
   "outputs": [
    {
     "data": {
      "text/plain": [
       "0.3333333333333333"
      ]
     },
     "execution_count": 16,
     "metadata": {},
     "output_type": "execute_result"
    }
   ],
   "source": [
    "metrics.accuracy(y_true=[1,0,0],y_pred=[1,1,1])"
   ]
  },
  {
   "cell_type": "code",
   "execution_count": 20,
   "id": "f6e5597a",
   "metadata": {},
   "outputs": [
    {
     "data": {
      "text/plain": [
       "0.5"
      ]
     },
     "execution_count": 20,
     "metadata": {},
     "output_type": "execute_result"
    }
   ],
   "source": [
    "metric.recall([1,0,0,1],[0,0,0,1])"
   ]
  },
  {
   "cell_type": "code",
   "execution_count": 21,
   "id": "23b56406",
   "metadata": {},
   "outputs": [],
   "source": [
    "y_true = [0, 0, 0, 1, 0, 0, 0, 0, 0, 0, 1, 0, 0, 0, 0, 0, 0, 0, 1, 0]\n",
    "y_pred = [0.02638412, 0.11114267, 0.31620708,\n",
    "0.0490937, 0.0191491, 0.17554844,\n",
    " 0.15952202, 0.03819563, 0.11639273,\n",
    " 0.079377, 0.08584789, 0.39095342,\n",
    " 0.27259048, 0.03447096, 0.04644807,\n",
    "0.03543574, 0.18521942, 0.05934905,\n",
    " 0.61977213, 0.33056815]"
   ]
  },
  {
   "cell_type": "code",
   "execution_count": 32,
   "id": "fd6de942",
   "metadata": {},
   "outputs": [
    {
     "name": "stdout",
     "output_type": "stream",
     "text": [
      "for threshold 0.0490937\n",
      "temp Preicted [0, 1, 1, 1, 0, 1, 1, 0, 1, 1, 1, 1, 1, 0, 0, 0, 1, 1, 1, 1]\n",
      "true values   [0, 0, 0, 1, 0, 0, 0, 0, 0, 0, 1, 0, 0, 0, 0, 0, 0, 0, 1, 0]\n",
      "for threshold 0.05934905\n",
      "temp Preicted [0, 1, 1, 0, 0, 1, 1, 0, 1, 1, 1, 1, 1, 0, 0, 0, 1, 1, 1, 1]\n",
      "true values   [0, 0, 0, 1, 0, 0, 0, 0, 0, 0, 1, 0, 0, 0, 0, 0, 0, 0, 1, 0]\n",
      "for threshold 0.079377\n",
      "temp Preicted [0, 1, 1, 0, 0, 1, 1, 0, 1, 1, 1, 1, 1, 0, 0, 0, 1, 0, 1, 1]\n",
      "true values   [0, 0, 0, 1, 0, 0, 0, 0, 0, 0, 1, 0, 0, 0, 0, 0, 0, 0, 1, 0]\n",
      "for threshold 0.08584789\n",
      "temp Preicted [0, 1, 1, 0, 0, 1, 1, 0, 1, 0, 1, 1, 1, 0, 0, 0, 1, 0, 1, 1]\n",
      "true values   [0, 0, 0, 1, 0, 0, 0, 0, 0, 0, 1, 0, 0, 0, 0, 0, 0, 0, 1, 0]\n",
      "for threshold 0.11114267\n",
      "temp Preicted [0, 1, 1, 0, 0, 1, 1, 0, 1, 0, 0, 1, 1, 0, 0, 0, 1, 0, 1, 1]\n",
      "true values   [0, 0, 0, 1, 0, 0, 0, 0, 0, 0, 1, 0, 0, 0, 0, 0, 0, 0, 1, 0]\n",
      "for threshold 0.11639273\n",
      "temp Preicted [0, 0, 1, 0, 0, 1, 1, 0, 1, 0, 0, 1, 1, 0, 0, 0, 1, 0, 1, 1]\n",
      "true values   [0, 0, 0, 1, 0, 0, 0, 0, 0, 0, 1, 0, 0, 0, 0, 0, 0, 0, 1, 0]\n",
      "for threshold 0.15952202\n",
      "temp Preicted [0, 0, 1, 0, 0, 1, 1, 0, 0, 0, 0, 1, 1, 0, 0, 0, 1, 0, 1, 1]\n",
      "true values   [0, 0, 0, 1, 0, 0, 0, 0, 0, 0, 1, 0, 0, 0, 0, 0, 0, 0, 1, 0]\n",
      "for threshold 0.17554844\n",
      "temp Preicted [0, 0, 1, 0, 0, 1, 0, 0, 0, 0, 0, 1, 1, 0, 0, 0, 1, 0, 1, 1]\n",
      "true values   [0, 0, 0, 1, 0, 0, 0, 0, 0, 0, 1, 0, 0, 0, 0, 0, 0, 0, 1, 0]\n",
      "for threshold 0.18521942\n",
      "temp Preicted [0, 0, 1, 0, 0, 0, 0, 0, 0, 0, 0, 1, 1, 0, 0, 0, 1, 0, 1, 1]\n",
      "true values   [0, 0, 0, 1, 0, 0, 0, 0, 0, 0, 1, 0, 0, 0, 0, 0, 0, 0, 1, 0]\n",
      "for threshold 0.27259048\n",
      "temp Preicted [0, 0, 1, 0, 0, 0, 0, 0, 0, 0, 0, 1, 1, 0, 0, 0, 0, 0, 1, 1]\n",
      "true values   [0, 0, 0, 1, 0, 0, 0, 0, 0, 0, 1, 0, 0, 0, 0, 0, 0, 0, 1, 0]\n",
      "for threshold 0.31620708\n",
      "temp Preicted [0, 0, 1, 0, 0, 0, 0, 0, 0, 0, 0, 1, 0, 0, 0, 0, 0, 0, 1, 1]\n",
      "true values   [0, 0, 0, 1, 0, 0, 0, 0, 0, 0, 1, 0, 0, 0, 0, 0, 0, 0, 1, 0]\n",
      "for threshold 0.33056815\n",
      "temp Preicted [0, 0, 0, 0, 0, 0, 0, 0, 0, 0, 0, 1, 0, 0, 0, 0, 0, 0, 1, 1]\n",
      "true values   [0, 0, 0, 1, 0, 0, 0, 0, 0, 0, 1, 0, 0, 0, 0, 0, 0, 0, 1, 0]\n",
      "for threshold 0.39095342\n",
      "temp Preicted [0, 0, 0, 0, 0, 0, 0, 0, 0, 0, 0, 1, 0, 0, 0, 0, 0, 0, 1, 0]\n",
      "true values   [0, 0, 0, 1, 0, 0, 0, 0, 0, 0, 1, 0, 0, 0, 0, 0, 0, 0, 1, 0]\n",
      "for threshold 0.61977213\n",
      "temp Preicted [0, 0, 0, 0, 0, 0, 0, 0, 0, 0, 0, 0, 0, 0, 0, 0, 0, 0, 1, 0]\n",
      "true values   [0, 0, 0, 1, 0, 0, 0, 0, 0, 0, 1, 0, 0, 0, 0, 0, 0, 0, 1, 0]\n"
     ]
    }
   ],
   "source": [
    "precisons = []\n",
    "recalls = []\n",
    "thresholds = [0.0490937 , 0.05934905, 0.079377,\n",
    "0.08584789, 0.11114267, 0.11639273,\n",
    "0.15952202, 0.17554844, 0.18521942,\n",
    "0.27259048, 0.31620708, 0.33056815,\n",
    "0.39095342, 0.61977213]\n",
    "\n",
    "for i in thresholds:\n",
    "    temp_pred = [1 if y_p >= i else 0 for y_p in y_pred ]\n",
    "    print(f'for threshold {i}')\n",
    "    print(f'temp Preicted {temp_pred}')\n",
    "    print(f'true values   {y_true}')\n",
    "    p = metric.precision(y_true,temp_pred)\n",
    "    r = metric.recall(y_true,temp_pred)\n",
    "    precisons.append(p)\n",
    "    recalls.append(r)\n",
    "    \n",
    "    "
   ]
  },
  {
   "cell_type": "code",
   "execution_count": null,
   "id": "ea4903ca",
   "metadata": {},
   "outputs": [],
   "source": []
  },
  {
   "cell_type": "code",
   "execution_count": 31,
   "id": "fcbde2f0",
   "metadata": {},
   "outputs": [
    {
     "data": {
      "text/plain": [
       "Text(0, 0.5, 'Precision')"
      ]
     },
     "execution_count": 31,
     "metadata": {},
     "output_type": "execute_result"
    },
    {
     "data": {
      "image/png": "[encoded data removed]",
      "text/plain": [
       "<Figure size 700x700 with 1 Axes>"
      ]
     },
     "metadata": {},
     "output_type": "display_data"
    }
   ],
   "source": [
    "import seaborn as sns\n",
    "import matplotlib.pyplot as plt\n",
    "plt.figure(figsize=(7, 7))\n",
    "plt.plot(recalls, precisons)\n",
    "plt.xlabel('Recall', fontsize=15)\n",
    "plt.ylabel('Precision', fontsize=15)"
   ]
  },
  {
   "cell_type": "code",
   "execution_count": null,
   "id": "a65d0664",
   "metadata": {},
   "outputs": [],
   "source": [
    "#recall to be low, FN should be high, it happens when thrshold is set to high.\n",
    "#precsision to be low, FP shoul be hight, it happens thrshild is set to low."
   ]
  },
  {
   "cell_type": "code",
   "execution_count": 46,
   "id": "66e65d58",
   "metadata": {},
   "outputs": [
    {
     "name": "stdout",
     "output_type": "stream",
     "text": [
      "0.5714285714285715\n"
     ]
    }
   ],
   "source": [
    "y_true = [0, 0, 0, 1, 0, 0, 0, 0, 0, 0,1, 0, 0, 0, 0, 0, 0, 0, 1, 0]\n",
    "y_pred = [0, 0, 1, 0, 0, 0, 1, 0, 0, 0,1, 0, 0, 0, 0, 0, 0, 0, 1, 0]\n",
    "\n",
    "print(metric.f1(y_true,y_pred))"
   ]
  },
  {
   "cell_type": "code",
   "execution_count": 57,
   "id": "bb0d6f32",
   "metadata": {},
   "outputs": [],
   "source": [
    "tpr_list = []\n",
    "fpr_list = []\n",
    "\n",
    "# actual targets\n",
    "y_true = [0, 0, 0, 0, 1, 0, 1,0, 0, 1, 0, 1, 0, 0, 1]\n",
    "\n",
    "# predicted probabilities of a sample being 1\n",
    "y_pred = [0.1, 0.3, 0.2, 0.6, 0.8, 0.05,0.9, 0.5, 0.3, 0.66, 0.3, 0.2,0.85, 0.15, 0.99]\n",
    "\n",
    "# handmade thresholds\n",
    "thresholds = [0, 0.1, 0.2, 0.3, 0.4, 0.5,0.6, 0.7, 0.8, 0.85, 0.9, 0.99, 1.0]\n",
    "\n",
    "for i in thresholds:\n",
    "    t_pred = [1 if y_p >= i else 0for y_p in y_pred]\n",
    "    tpr = metric.tpr(y_true,t_pred)\n",
    "    fpr = metric.fpr(y_true,t_pred)\n",
    "    tpr_list.append(tpr)\n",
    "    fpr_list.append(fpr)"
   ]
  },
  {
   "cell_type": "code",
   "execution_count": 66,
   "id": "2115d07f",
   "metadata": {},
   "outputs": [
    {
     "data": {
      "image/png": "[encoded data removed]",
      "text/plain": [
       "<Figure size 700x700 with 1 Axes>"
      ]
     },
     "metadata": {},
     "output_type": "display_data"
    }
   ],
   "source": [
    "plt.figure(figsize=(7, 7))\n",
    "plt.fill_between(fpr_list, tpr_list, color='orange',alpha=0.1,)\n",
    "plt.plot(fpr_list, tpr_list, lw=2)\n",
    "plt.xlim(0, 1.0)\n",
    "plt.ylim(0, 1.0)\n",
    "plt.xlabel('FPR', fontsize=15)\n",
    "plt.ylabel('TPR', fontsize=15)\n",
    "plt.show()"
   ]
  },
  {
   "cell_type": "code",
   "execution_count": 87,
   "id": "34e9d27f",
   "metadata": {},
   "outputs": [],
   "source": [
    "def log_loss(y_true,y_pred):\n",
    "    '''\n",
    "    -1.0**(true *log(pred)) + (1-true)*log(1-pred)\n",
    "    '''\n",
    "    epsilon = 1e-15\n",
    "    loss = []\n",
    "    \n",
    "    for yt,yp in zip(y_true,y_pred):\n",
    "        #print(f\"yp before {yp}\")\n",
    "        yp = np.clip(yp,epsilon,1-epsilon)#make the vale in range eps to 1-eps\n",
    "        #print(f'yp after {yp}')\n",
    "        \n",
    "        temp_loss = -1.0*(yt*np.log(yp)) + (1 - yt)* np.log(1 - yp)\n",
    "        loss.append(temp_loss)\n",
    "    return np.mean(loss)    "
   ]
  },
  {
   "cell_type": "code",
   "execution_count": 82,
   "id": "9248ce38",
   "metadata": {},
   "outputs": [
    {
     "data": {
      "text/plain": [
       "(1e-15, 0.999999999999999)"
      ]
     },
     "execution_count": 82,
     "metadata": {},
     "output_type": "execute_result"
    }
   ],
   "source": [
    "#np.clip()\n",
    "1e-15,1-1e-15"
   ]
  },
  {
   "cell_type": "code",
   "execution_count": 102,
   "id": "981c1175",
   "metadata": {},
   "outputs": [
    {
     "name": "stdout",
     "output_type": "stream",
     "text": [
      "2.7944414837265272\n"
     ]
    }
   ],
   "source": [
    "y_true = [0, 0, 0, 0, 1, 0, 1,0, 0, 1, 0, 1, 0, 0, 1]\n",
    "y_proba = [1, 0.3, 0.2, 0.6, 0.8, 0.05,0.9, 0.5, 0.3, 0.66, 0.3, 0.2,0.85, 0.15, 0.99]\n",
    "\n",
    "log_loss(y_true,y_proba)\n",
    "print(log_loss(y_true,y_proba))"
   ]
  },
  {
   "cell_type": "markdown",
   "id": "38df3947",
   "metadata": {},
   "source": [
    "- <b>Macro averaged precision</b>: calculate precision for all classes individually\n",
    "and then average them\n",
    "- <b>Micro averaged precision</b>: calculate class wise true positive and false\n",
    "positive and then use that to calculate overall precision\n",
    "- <b>Weighted precision</b>: same as macro but in this case, it is weighted average\n",
    "depending on the number of items in each class\n"
   ]
  },
  {
   "cell_type": "code",
   "execution_count": 110,
   "id": "8c2a4d8a",
   "metadata": {},
   "outputs": [],
   "source": [
    "def macro_precision(y_true,y_pred):\n",
    "    \n",
    "    num_classes = len(np.unique(y_true))\n",
    "    \n",
    "    precision = 0\n",
    "    \n",
    "    for class_ in range(num_classes):\n",
    "        temp_true = [1 if p == class_ else 0 for p in y_true]\n",
    "        print(f'{temp_true} after alteration')\n",
    "        temp_pred = [1 if p == class_ else 0 for p in y_pred]\n",
    "        print(f'{temp_pred} after alteration')\n",
    "        m = Metrics()\n",
    "        tp = m.true_positive(temp_true,temp_pred)\n",
    "        fp = m.false_positive(temp_true,temp_pred)\n",
    "        \n",
    "        precision =+ tp/(tp+fp)\n",
    "    return precision/num_classes  "
   ]
  },
  {
   "cell_type": "code",
   "execution_count": null,
   "id": "bd30f1b3",
   "metadata": {},
   "outputs": [],
   "source": [
    "def micro_precision(y_true,y_pred):\n",
    "    \n",
    "    num_classes = len(np.unique(y_true))\n",
    "    \n",
    "    precision = 0\n",
    "    \n",
    "    for class_ in range(num_classes):\n",
    "        temp_true = [1 if p == class_ else 0 for p in y_true]\n",
    "        print(f'{temp_true} after alteration')\n",
    "        temp_pred = [1 if p == class_ else 0 for p in y_pred]\n",
    "        print(f'{temp_pred} after alteration')\n",
    "        m = Metrics()\n",
    "        tp = m.true_positive(temp_true,temp_pred)\n",
    "        fp = m.false_positive(temp_true,temp_pred)\n",
    "        \n",
    "        precision =+ tp/(tp+fp)\n",
    "    return precision/num_classes  "
   ]
  },
  {
   "cell_type": "code",
   "execution_count": 115,
   "id": "06455291",
   "metadata": {},
   "outputs": [],
   "source": [
    "def micro_precision(y_true, y_pred):\n",
    "    \"\"\"\n",
    "    Function to calculate micro averaged precision\n",
    "    :param y_true: list of true values\n",
    "    :param y_proba: list of predicted values\n",
    "    :return: micro precision score\n",
    "    \"\"\"\n",
    "    # find the number of classes by taking\n",
    "    # length of unique values in true list\n",
    "    num_classes = len(np.unique(y_true))\n",
    "    # initialize tp and fp to 0\n",
    "    tp = 0\n",
    "    fp = 0\n",
    "    # loop over all classes\n",
    "    for class_ in range(num_classes):\n",
    "    # all classes except current are considered negative\n",
    "        temp_true = [1 if p == class_ else 0 for p in y_true]\n",
    "        temp_pred = [1 if p == class_ else 0 for p in y_pred]\n",
    "        # calculate true positive for current class\n",
    "        # and update overall tp\n",
    "        m = Metrics()\n",
    "        tp += m.true_positive(temp_true, temp_pred)\n",
    "        # calculate false positive for current class\n",
    "        # and update overall tp\n",
    "        fp += m.false_positive(temp_true, temp_pred)\n",
    "        # calculate and return overall precision\n",
    "    precision = tp / (tp + fp)\n",
    "    return precision"
   ]
  },
  {
   "cell_type": "code",
   "execution_count": 123,
   "id": "d65682a5",
   "metadata": {},
   "outputs": [],
   "source": [
    "from collections import Counter\n",
    "import numpy as np\n",
    "\n",
    "def weighted_precision(y_true, y_pred):\n",
    "    \"\"\"\n",
    "    Function to calculate weighted averaged precision\n",
    "    :param y_true: list of true values\n",
    "    :param y_proba: list of predicted values\n",
    "    :return: weighted precision score\n",
    "    \"\"\"\n",
    "    # find the number of classes by taking\n",
    "    # length of unique values in true list\n",
    "    num_classes = len(np.unique(y_true))\n",
    "    # create class:sample count dictionary\n",
    "    # it looks something like this:\n",
    "    # {0: 20, 1:15, 2:21}\n",
    "    class_counts = Counter(y_true)\n",
    "    # initialize precision to 0\n",
    "    precision = 0\n",
    "    # loop over all classes\n",
    "    for class_ in range(num_classes):\n",
    "        # all classes except current are considered negative\n",
    "        temp_true = [1 if p == class_ else 0 for p in y_true]\n",
    "        temp_pred = [1 if p == class_ else 0 for p in y_pred]\n",
    "        m = Metrics()\n",
    "        # calculate tp and fp for class\n",
    "        tp = m.true_positive(temp_true, temp_pred)\n",
    "        fp = m.false_positive(temp_true, temp_pred)\n",
    "        # calculate precision of class\n",
    "        temp_precision = tp / (tp + fp)\n",
    "        # multiply precision with count of samples in class\n",
    "        weighted_precision = class_counts[class_] * temp_precision\n",
    "        # add to overall precision\n",
    "        precision += weighted_precision\n",
    "        # calculate overall precision by dividing by\n",
    "    # total number of samples\n",
    "    overall_precision = precision / len(y_true)\n",
    "    return overall_precision"
   ]
  },
  {
   "cell_type": "code",
   "execution_count": 119,
   "id": "95a8e3c0",
   "metadata": {},
   "outputs": [
    {
     "name": "stdout",
     "output_type": "stream",
     "text": [
      "[1, 0, 0, 1, 0, 0, 1, 0, 0] after alteration\n",
      "[1, 0, 0, 1, 0, 0, 1, 1, 0] after alteration\n",
      "[0, 1, 0, 0, 1, 0, 0, 0, 0] after alteration\n",
      "[0, 0, 1, 0, 0, 1, 0, 0, 0] after alteration\n",
      "[0, 0, 1, 0, 0, 1, 0, 1, 1] after alteration\n",
      "[0, 1, 0, 0, 1, 0, 0, 0, 1] after alteration\n"
     ]
    },
    {
     "data": {
      "text/plain": [
       "0.1111111111111111"
      ]
     },
     "execution_count": 119,
     "metadata": {},
     "output_type": "execute_result"
    }
   ],
   "source": [
    "y_true = [0, 1, 2, 0, 1, 2, 0, 2, 2]\n",
    "y_pred = [0, 2, 1, 0, 2, 1, 0, 0, 2]\n",
    "\n",
    "macro_precision(y_true,y_pred)"
   ]
  },
  {
   "cell_type": "code",
   "execution_count": 116,
   "id": "54a73e37",
   "metadata": {},
   "outputs": [
    {
     "data": {
      "text/plain": [
       "0.4444444444444444"
      ]
     },
     "execution_count": 116,
     "metadata": {},
     "output_type": "execute_result"
    }
   ],
   "source": [
    "micro_precision(y_true,y_pred)"
   ]
  },
  {
   "cell_type": "code",
   "execution_count": 124,
   "id": "56281101",
   "metadata": {},
   "outputs": [
    {
     "data": {
      "text/plain": [
       "0.39814814814814814"
      ]
     },
     "execution_count": 124,
     "metadata": {},
     "output_type": "execute_result"
    }
   ],
   "source": [
    "weighted_precision(y_true,y_pred)"
   ]
  },
  {
   "cell_type": "code",
   "execution_count": 150,
   "id": "13d781f7",
   "metadata": {},
   "outputs": [],
   "source": [
    "def weighted_f1(y_true,y_pred):\n",
    "    '''\n",
    "    2*p*r/(p+r) *weights1 +....\n",
    "    '''\n",
    "    num_classes = len(np.unique(y_true))\n",
    "    class_counts = Counter(y_true)\n",
    "    f1 = 0\n",
    "    \n",
    "    for class_ in range(num_classes):\n",
    "        # all classes except current are considered negative\n",
    "        temp_true = [1 if p == class_ else 0 for p in y_true]\n",
    "        temp_pred = [1 if p == class_ else 0 for p in y_pred]\n",
    "        # calculate precision and recall for class\n",
    "        m = Metrics()\n",
    "        p = m.precision(temp_true, temp_pred)\n",
    "        r = m.recall(temp_true, temp_pred)\n",
    "        # calculate f1 of class\n",
    "        if p + r != 0:\n",
    "            temp_f1 = 2 * p * r / (p + r)\n",
    "        else:\n",
    "            temp_f1 = 0\n",
    "        # multiply f1 with count of samples in class\n",
    "        weighted_f1 = class_counts[class_] * temp_f1\n",
    "        # add to f1 preci\n",
    "        \n",
    "    return f1/len(y_true)"
   ]
  },
  {
   "cell_type": "code",
   "execution_count": 151,
   "id": "8c09a8c8",
   "metadata": {},
   "outputs": [
    {
     "ename": "ZeroDivisionError",
     "evalue": "division by zero",
     "output_type": "error",
     "traceback": [
      "\u001b[1;31m---------------------------------------------------------------------------\u001b[0m",
      "\u001b[1;31mZeroDivisionError\u001b[0m                         Traceback (most recent call last)",
      "\u001b[1;32m~\\AppData\\Local\\Temp\\ipykernel_23340\\2287648819.py\u001b[0m in \u001b[0;36m<module>\u001b[1;34m\u001b[0m\n\u001b[0;32m      1\u001b[0m \u001b[0my_true\u001b[0m \u001b[1;33m=\u001b[0m \u001b[1;33m[\u001b[0m\u001b[1;36m0\u001b[0m\u001b[1;33m,\u001b[0m \u001b[1;36m1\u001b[0m\u001b[1;33m,\u001b[0m \u001b[1;36m2\u001b[0m\u001b[1;33m,\u001b[0m \u001b[1;36m0\u001b[0m\u001b[1;33m,\u001b[0m \u001b[1;36m1\u001b[0m\u001b[1;33m,\u001b[0m \u001b[1;36m2\u001b[0m\u001b[1;33m,\u001b[0m \u001b[1;36m0\u001b[0m\u001b[1;33m,\u001b[0m \u001b[1;36m2\u001b[0m\u001b[1;33m,\u001b[0m \u001b[1;36m2\u001b[0m\u001b[1;33m]\u001b[0m\u001b[1;33m\u001b[0m\u001b[1;33m\u001b[0m\u001b[0m\n\u001b[0;32m      2\u001b[0m \u001b[0my_pred\u001b[0m \u001b[1;33m=\u001b[0m \u001b[1;33m[\u001b[0m\u001b[1;36m0\u001b[0m\u001b[1;33m,\u001b[0m \u001b[1;36m2\u001b[0m\u001b[1;33m,\u001b[0m \u001b[1;36m1\u001b[0m\u001b[1;33m,\u001b[0m \u001b[1;36m0\u001b[0m\u001b[1;33m,\u001b[0m \u001b[1;36m2\u001b[0m\u001b[1;33m,\u001b[0m \u001b[1;36m1\u001b[0m\u001b[1;33m,\u001b[0m \u001b[1;36m0\u001b[0m\u001b[1;33m,\u001b[0m \u001b[1;36m0\u001b[0m\u001b[1;33m,\u001b[0m \u001b[1;36m2\u001b[0m\u001b[1;33m]\u001b[0m\u001b[1;33m\u001b[0m\u001b[1;33m\u001b[0m\u001b[0m\n\u001b[1;32m----> 3\u001b[1;33m \u001b[0mweighted_f1\u001b[0m\u001b[1;33m(\u001b[0m\u001b[0my_true\u001b[0m\u001b[1;33m,\u001b[0m\u001b[0my_proba\u001b[0m\u001b[1;33m)\u001b[0m\u001b[1;33m\u001b[0m\u001b[1;33m\u001b[0m\u001b[0m\n\u001b[0m",
      "\u001b[1;32m~\\AppData\\Local\\Temp\\ipykernel_23340\\2039201279.py\u001b[0m in \u001b[0;36mweighted_f1\u001b[1;34m(y_true, y_pred)\u001b[0m\n\u001b[0;32m     13\u001b[0m         \u001b[1;31m# calculate precision and recall for class\u001b[0m\u001b[1;33m\u001b[0m\u001b[1;33m\u001b[0m\u001b[1;33m\u001b[0m\u001b[0m\n\u001b[0;32m     14\u001b[0m         \u001b[0mm\u001b[0m \u001b[1;33m=\u001b[0m \u001b[0mMetrics\u001b[0m\u001b[1;33m(\u001b[0m\u001b[1;33m)\u001b[0m\u001b[1;33m\u001b[0m\u001b[1;33m\u001b[0m\u001b[0m\n\u001b[1;32m---> 15\u001b[1;33m         \u001b[0mp\u001b[0m \u001b[1;33m=\u001b[0m \u001b[0mm\u001b[0m\u001b[1;33m.\u001b[0m\u001b[0mprecision\u001b[0m\u001b[1;33m(\u001b[0m\u001b[0mtemp_true\u001b[0m\u001b[1;33m,\u001b[0m \u001b[0mtemp_pred\u001b[0m\u001b[1;33m)\u001b[0m\u001b[1;33m\u001b[0m\u001b[1;33m\u001b[0m\u001b[0m\n\u001b[0m\u001b[0;32m     16\u001b[0m         \u001b[0mr\u001b[0m \u001b[1;33m=\u001b[0m \u001b[0mm\u001b[0m\u001b[1;33m.\u001b[0m\u001b[0mrecall\u001b[0m\u001b[1;33m(\u001b[0m\u001b[0mtemp_true\u001b[0m\u001b[1;33m,\u001b[0m \u001b[0mtemp_pred\u001b[0m\u001b[1;33m)\u001b[0m\u001b[1;33m\u001b[0m\u001b[1;33m\u001b[0m\u001b[0m\n\u001b[0;32m     17\u001b[0m         \u001b[1;31m# calculate f1 of class\u001b[0m\u001b[1;33m\u001b[0m\u001b[1;33m\u001b[0m\u001b[1;33m\u001b[0m\u001b[0m\n",
      "\u001b[1;32m~\\AppData\\Local\\Temp\\ipykernel_23340\\3380697823.py\u001b[0m in \u001b[0;36mprecision\u001b[1;34m(self, y_true, y_pred)\u001b[0m\n\u001b[0;32m     92\u001b[0m         \u001b[0mfp\u001b[0m \u001b[1;33m=\u001b[0m \u001b[0mself\u001b[0m\u001b[1;33m.\u001b[0m\u001b[0mfalse_positive\u001b[0m\u001b[1;33m(\u001b[0m\u001b[0my_true\u001b[0m\u001b[1;33m,\u001b[0m\u001b[0my_pred\u001b[0m\u001b[1;33m)\u001b[0m\u001b[1;33m\u001b[0m\u001b[1;33m\u001b[0m\u001b[0m\n\u001b[0;32m     93\u001b[0m \u001b[1;33m\u001b[0m\u001b[0m\n\u001b[1;32m---> 94\u001b[1;33m         \u001b[1;32mreturn\u001b[0m \u001b[0mtp\u001b[0m\u001b[1;33m/\u001b[0m\u001b[1;33m(\u001b[0m\u001b[0mtp\u001b[0m\u001b[1;33m+\u001b[0m\u001b[0mfp\u001b[0m\u001b[1;33m)\u001b[0m\u001b[1;33m\u001b[0m\u001b[1;33m\u001b[0m\u001b[0m\n\u001b[0m\u001b[0;32m     95\u001b[0m \u001b[1;33m\u001b[0m\u001b[0m\n\u001b[0;32m     96\u001b[0m     \u001b[1;32mdef\u001b[0m \u001b[0mrecall\u001b[0m\u001b[1;33m(\u001b[0m\u001b[0mself\u001b[0m\u001b[1;33m,\u001b[0m\u001b[0my_true\u001b[0m\u001b[1;33m,\u001b[0m\u001b[0my_pred\u001b[0m\u001b[1;33m)\u001b[0m\u001b[1;33m:\u001b[0m\u001b[1;33m\u001b[0m\u001b[1;33m\u001b[0m\u001b[0m\n",
      "\u001b[1;31mZeroDivisionError\u001b[0m: division by zero"
     ]
    }
   ],
   "source": [
    "y_true = [0, 1, 2, 0, 1, 2, 0, 2, 2]\n",
    "y_pred = [0, 2, 1, 0, 2, 1, 0, 0, 2]\n",
    "weighted_f1(y_true,y_proba)\n"
   ]
  },
  {
   "cell_type": "code",
   "execution_count": 154,
   "id": "30914c17",
   "metadata": {},
   "outputs": [
    {
     "data": {
      "text/plain": [
       "Text(0.5, 57.249999999999986, 'Predicted Labels')"
      ]
     },
     "execution_count": 154,
     "metadata": {},
     "output_type": "execute_result"
    },
    {
     "data": {
      "image/png": "[encoded data removed]",
      "text/plain": [
       "<Figure size 1000x1000 with 1 Axes>"
      ]
     },
     "metadata": {},
     "output_type": "display_data"
    }
   ],
   "source": [
    "from sklearn import metrics\n",
    "# some targets\n",
    "y_true = [0, 1, 2, 0, 1, 2, 0, 2, 2,3,3]\n",
    "#some predictions\n",
    "y_pred = [0, 2, 1, 0, 2, 1, 0, 0, 2,1,3]\n",
    "# get confusion matrix from sklearn\n",
    "cm = metrics.confusion_matrix(y_true, y_pred)\n",
    "# plot using matplotlib and seaborn\n",
    "plt.figure(figsize=(10, 10))\n",
    "cmap = sns.cubehelix_palette(5, hue=0.05, rot=0, light=0.9, dark=0,\n",
    "as_cmap=True)\n",
    "sns.set(font_scale=2.5)\n",
    "sns.heatmap(cm, annot=True, cmap=cmap, cbar=False)\n",
    "plt.ylabel('Actual Labels', fontsize=20)\n",
    "plt.xlabel('Predicted Labels', fontsize=20)"
   ]
  },
  {
   "cell_type": "markdown",
   "id": "f0c1c835",
   "metadata": {},
   "source": [
    "# Mutlilabel classification Metrics"
   ]
  },
  {
   "cell_type": "code",
   "execution_count": null,
   "id": "1eec734b",
   "metadata": {},
   "outputs": [],
   "source": [
    "def pk(y_true,y_pred,k):\n",
    "    '''\n",
    "    returns : precision at k\n",
    "    '''\n",
    "    if k == 0:\n",
    "        return 0\n",
    "    \n",
    "    y_pred = "
   ]
  },
  {
   "cell_type": "markdown",
   "id": "93c28629",
   "metadata": {},
   "source": [
    "# Regression Metrics"
   ]
  },
  {
   "cell_type": "code",
   "execution_count": 156,
   "id": "d1ff71d0",
   "metadata": {},
   "outputs": [],
   "source": [
    "#MAE\n",
    "def mean_absolute_error(y_true,y_pred):\n",
    "    '''\n",
    "    \n",
    "    '''\n",
    "    error = 0\n",
    "    for yt,yp in zip(y_true,y_pred):\n",
    "        \n",
    "        error += np.abs(yp-yt)\n",
    "    return error/len(y_true)    \n",
    "        \n",
    "    \n",
    "def mean_squared_error(y_true,y_pred):\n",
    "    \n",
    "    error = 0\n",
    "    for yt,yp in zip(y_true,y_pred):\n",
    "        \n",
    "        error += (yp-yt)**2\n",
    "    return error/len(y_true)    \n",
    "\n",
    "def mean_squared_log_error(y_true,y_pred):\n",
    "    error = 0\n",
    "    # loop over all samples in true and predicted list\n",
    "    for yt, yp in zip(y_true, y_pred):\n",
    "        # calculate squared log error\n",
    "        # and add to error\n",
    "        error += (np.log(1 + yt) - np.log(1 + yp)) ** 2\n",
    "        # return mean error\n",
    "    return error / len(y_true)\n",
    "    \n",
    "def r2(y_true,y_pred):\n",
    "    \n",
    "    n_error = 0\n",
    "    d_error = 0\n",
    "    mean_yp = np.mean(y_true)\n",
    "    for yt,yp in zip(y_true,y_pred):\n",
    "        n_error += (yt-yp)**2\n",
    "        d_error += (yt-mean_yp)\n",
    "    return 1-(n_error/d_error)\n",
    "    \n",
    "    "
   ]
  },
  {
   "cell_type": "code",
   "execution_count": 157,
   "id": "7453fec2",
   "metadata": {},
   "outputs": [],
   "source": [
    "def Mcc(y_true, y_pred):\n",
    "    '''\n",
    "    (tp*tn - fp*fn) / [(tp+fp)*(fn+tn)*(fp+tn)*(tp*fn)]^0.5\n",
    "    return values -1 to 1, 0 is random pred\n",
    "    '''\n",
    "    m = Metrics()\n",
    "    tp = m.true_positive(y_true, y_pred)\n",
    "    tn = m.true_negative(y_true, y_pred)\n",
    "    fp = m.false_positive(y_true, y_pred)\n",
    "    fn = m.false_negative(y_true, y_pred)\n",
    "    numerator = (tp * tn) - (fp * fn)\n",
    "    denominator = (\n",
    "                    (tp + fp) *\n",
    "                    (fn + tn) *\n",
    "                    (fp + tn) *\n",
    "                    (tp + fn)\n",
    "                    )\n",
    "    denominator = denominator ** 0.5\n",
    "    return numerator/denominator\n",
    "    "
   ]
  },
  {
   "cell_type": "code",
   "execution_count": null,
   "id": "a00664c3",
   "metadata": {},
   "outputs": [],
   "source": []
  },
  {
   "cell_type": "code",
   "execution_count": null,
   "id": "16d6958f",
   "metadata": {},
   "outputs": [],
   "source": []
  },
  {
   "cell_type": "code",
   "execution_count": null,
   "id": "23bef1be",
   "metadata": {},
   "outputs": [],
   "source": []
  },
  {
   "cell_type": "code",
   "execution_count": null,
   "id": "64ac3ca8",
   "metadata": {},
   "outputs": [],
   "source": []
  },
  {
   "cell_type": "code",
   "execution_count": null,
   "id": "cd46768f",
   "metadata": {},
   "outputs": [],
   "source": []
  }
 ],
 "metadata": {
  "kernelspec": {
   "display_name": "Python 3 (ipykernel)",
   "language": "python",
   "name": "python3"
  },
  "language_info": {
   "codemirror_mode": {
    "name": "ipython",
    "version": 3
   },
   "file_extension": ".py",
   "mimetype": "text/x-python",
   "name": "python",
   "nbconvert_exporter": "python",
   "pygments_lexer": "ipython3",
   "version": "3.7.3"
  }
 },
 "nbformat": 4,
 "nbformat_minor": 5
}
